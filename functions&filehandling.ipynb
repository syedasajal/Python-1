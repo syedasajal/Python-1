{
 "cells": [
  {
   "cell_type": "code",
   "execution_count": 1,
   "id": "a6a65f5a",
   "metadata": {},
   "outputs": [],
   "source": [
    "def plus(a,b):\n",
    "    sum_ = a+b\n",
    "    return sum_"
   ]
  },
  {
   "cell_type": "code",
   "execution_count": 3,
   "id": "4f135357",
   "metadata": {},
   "outputs": [],
   "source": [
    "result = plus(5,10)"
   ]
  },
  {
   "cell_type": "code",
   "execution_count": 4,
   "id": "26fdfe1b",
   "metadata": {},
   "outputs": [
    {
     "data": {
      "text/plain": [
       "15"
      ]
     },
     "execution_count": 4,
     "metadata": {},
     "output_type": "execute_result"
    }
   ],
   "source": [
    "result"
   ]
  },
  {
   "cell_type": "code",
   "execution_count": 12,
   "id": "b90a7285",
   "metadata": {},
   "outputs": [],
   "source": [
    "def outer(name,gender):\n",
    "\n",
    "    def inner():\n",
    "        if gender=='M':\n",
    "            return 'Mr. '+name\n",
    "        else:\n",
    "            return 'Ms '+name\n",
    "    \n",
    "    result = inner()\n",
    "    return result\n",
    "        "
   ]
  },
  {
   "cell_type": "code",
   "execution_count": 14,
   "id": "24bfaabc",
   "metadata": {},
   "outputs": [
    {
     "data": {
      "text/plain": [
       "'Mr. Ahmad'"
      ]
     },
     "execution_count": 14,
     "metadata": {},
     "output_type": "execute_result"
    }
   ],
   "source": [
    "outer('Ahmad', 'M')"
   ]
  },
  {
   "cell_type": "code",
   "execution_count": 15,
   "id": "f675d32c",
   "metadata": {},
   "outputs": [],
   "source": [
    "\n",
    "def subtract(a,b):\n",
    "    minus = a-b\n",
    "    return minus\n"
   ]
  },
  {
   "cell_type": "code",
   "execution_count": 19,
   "id": "1854b8fb",
   "metadata": {},
   "outputs": [],
   "source": [
    "result = subtract(35,15)"
   ]
  },
  {
   "cell_type": "code",
   "execution_count": 20,
   "id": "b93c57c2",
   "metadata": {},
   "outputs": [
    {
     "data": {
      "text/plain": [
       "20"
      ]
     },
     "execution_count": 20,
     "metadata": {},
     "output_type": "execute_result"
    }
   ],
   "source": [
    "result"
   ]
  },
  {
   "cell_type": "code",
   "execution_count": 52,
   "id": "0c69cf7f",
   "metadata": {},
   "outputs": [],
   "source": [
    "myfile = open(\"sajal.txt\",'w',encoding='utf-8')\n",
    "sajal= myfile.writelines(\"My name is Sajal.\\n\" \"I am student of AI\")\n",
    "myfile.close()\n",
    "\n"
   ]
  },
  {
   "cell_type": "code",
   "execution_count": 53,
   "id": "c1e7d324",
   "metadata": {},
   "outputs": [],
   "source": [
    "myfile = open(\"sajal.txt\",'w',encoding='utf-8')\n",
    "sajal= myfile.writelines([\"My name is Sajal.\\n\" \"I am student of AI\"])\n",
    "myfile.close()"
   ]
  },
  {
   "cell_type": "code",
   "execution_count": 5,
   "id": "72100544",
   "metadata": {},
   "outputs": [
    {
     "name": "stdout",
     "output_type": "stream",
     "text": [
      "<class 'str'>\n"
     ]
    },
    {
     "data": {
      "text/plain": [
       "'My name is Sajal'"
      ]
     },
     "execution_count": 5,
     "metadata": {},
     "output_type": "execute_result"
    }
   ],
   "source": [
    "f1 = open('sajal.txt','r', encoding='utf-8')\n",
    "line = f1.readline()\n",
    "print(type(line))\n",
    "line = line[:-2]\n",
    "line"
   ]
  },
  {
   "cell_type": "code",
   "execution_count": 15,
   "id": "b2a0abf3",
   "metadata": {},
   "outputs": [
    {
     "data": {
      "text/plain": [
       "'My name is Sajal. I am student of AI'"
      ]
     },
     "execution_count": 15,
     "metadata": {},
     "output_type": "execute_result"
    }
   ],
   "source": [
    "f1 = open('sajal.txt','r')\n",
    "all_data = f1.read()\n",
    "all_data[0:all_data.index('\\n')] + \" \" +all_data[all_data.index('\\n')+1:]"
   ]
  },
  {
   "cell_type": "code",
   "execution_count": 20,
   "id": "fd0d00f2",
   "metadata": {},
   "outputs": [
    {
     "data": {
      "text/plain": [
       "'My name is Sajal. I am student of AI'"
      ]
     },
     "execution_count": 20,
     "metadata": {},
     "output_type": "execute_result"
    }
   ],
   "source": [
    "f1 = open('sajal.txt','r')\n",
    "all_data = f1.read()\n",
    "li = all_data.split('\\n')\n",
    "li[0] + \" \" + li[1]"
   ]
  },
  {
   "cell_type": "code",
   "execution_count": 21,
   "id": "81d8ca4f",
   "metadata": {
    "scrolled": true
   },
   "outputs": [
    {
     "name": "stdout",
     "output_type": "stream",
     "text": [
      "My name is Sajal.\n",
      "\n"
     ]
    }
   ],
   "source": [
    "new_file = open(\"sajal.txt\",'r')\n",
    "all_lines = new_file.readlines()\n",
    "for lines in all_lines:\n",
    "    print(lines)\n",
    "    break\n",
    "new_file.close()"
   ]
  },
  {
   "cell_type": "code",
   "execution_count": 57,
   "id": "f8c1380d",
   "metadata": {},
   "outputs": [
    {
     "name": "stdout",
     "output_type": "stream",
     "text": [
      "My name is Sajal.\n",
      "\n",
      "I am student of AI\n"
     ]
    }
   ],
   "source": [
    "new_file = open(\"sajal.txt\",'r')\n",
    "all_lines = new_file.readlines()\n",
    "for lines in all_lines:\n",
    "    print(lines)\n",
    "new_file.close()"
   ]
  },
  {
   "cell_type": "code",
   "execution_count": 58,
   "id": "ee91d002",
   "metadata": {},
   "outputs": [
    {
     "name": "stdout",
     "output_type": "stream",
     "text": [
      "My \n"
     ]
    }
   ],
   "source": [
    "new_file = open(\"sajal.txt\",'r')\n",
    "all_lines = new_file.readline(3)\n",
    "print(all_lines)\n",
    "new_file.close()"
   ]
  },
  {
   "cell_type": "code",
   "execution_count": 59,
   "id": "f9a28327",
   "metadata": {},
   "outputs": [
    {
     "name": "stdout",
     "output_type": "stream",
     "text": [
      "My name is Sajal.\n",
      "\n"
     ]
    }
   ],
   "source": [
    "new_file = open(\"sajal.txt\",'r')\n",
    "all_lines = new_file.readline()\n",
    "print(all_lines)\n",
    "new_file.close()"
   ]
  },
  {
   "cell_type": "code",
   "execution_count": 38,
   "id": "65aa0c01",
   "metadata": {},
   "outputs": [],
   "source": [
    "myfile = open(\"ayesha.txt\",'w',encoding='utf-8')\n",
    "new_file = myfile.write(\"My name is ayesha.\")\n",
    "myfile.close()\n"
   ]
  },
  {
   "cell_type": "code",
   "execution_count": 6,
   "id": "a117f873",
   "metadata": {},
   "outputs": [],
   "source": [
    "def outer(name,gender):\n",
    "    \n",
    "    \n",
    "    def inner():\n",
    "        if gender==\"M\":\n",
    "            return \"Mr. \"+name\n",
    "        else:\n",
    "            return \"Miss \"+name\n",
    "    \n",
    "    return inner()\n",
    "        "
   ]
  },
  {
   "cell_type": "code",
   "execution_count": 7,
   "id": "a720133c",
   "metadata": {},
   "outputs": [
    {
     "data": {
      "text/plain": [
       "'Miss sajal'"
      ]
     },
     "execution_count": 7,
     "metadata": {},
     "output_type": "execute_result"
    }
   ],
   "source": [
    "outer(\"sajal\",\"F\")"
   ]
  },
  {
   "cell_type": "code",
   "execution_count": 8,
   "id": "797abd8f",
   "metadata": {},
   "outputs": [
    {
     "data": {
      "text/plain": [
       "'Mr. ali'"
      ]
     },
     "execution_count": 8,
     "metadata": {},
     "output_type": "execute_result"
    }
   ],
   "source": [
    "outer(\"ali\",\"M\")"
   ]
  },
  {
   "cell_type": "code",
   "execution_count": 9,
   "id": "2251c448",
   "metadata": {},
   "outputs": [],
   "source": [
    "def multiply(a,b,c):\n",
    "    multiply = a*b*c\n",
    "    return multiply"
   ]
  },
  {
   "cell_type": "code",
   "execution_count": 13,
   "id": "74d766f9",
   "metadata": {},
   "outputs": [],
   "source": [
    "result= multiply(2,6,5)"
   ]
  },
  {
   "cell_type": "code",
   "execution_count": 14,
   "id": "82c2417c",
   "metadata": {},
   "outputs": [
    {
     "data": {
      "text/plain": [
       "60"
      ]
     },
     "execution_count": 14,
     "metadata": {},
     "output_type": "execute_result"
    }
   ],
   "source": [
    "result"
   ]
  },
  {
   "cell_type": "code",
   "execution_count": 1,
   "id": "51f5c349",
   "metadata": {},
   "outputs": [],
   "source": [
    "def average_marks(marks):\n",
    "    sum_ = sum(marks)\n",
    "    length = len(marks)\n",
    "    average = sum_ / length\n",
    "    return average"
   ]
  },
  {
   "cell_type": "code",
   "execution_count": 7,
   "id": "3a98981b",
   "metadata": {},
   "outputs": [
    {
     "name": "stdout",
     "output_type": "stream",
     "text": [
      "Your average is: 4.0\n"
     ]
    }
   ],
   "source": [
    "marks = [2,5,4,5]\n",
    "average = average_marks(marks)\n",
    "print(\"Your average is:\", average)"
   ]
  },
  {
   "cell_type": "code",
   "execution_count": 12,
   "id": "dd17f999",
   "metadata": {},
   "outputs": [
    {
     "name": "stdout",
     "output_type": "stream",
     "text": [
      "Your average is: 4.0\n",
      "Your grade is: F\n"
     ]
    }
   ],
   "source": [
    "def average_marks(marks):\n",
    "    sum_ = sum(marks)\n",
    "    length = len(marks)\n",
    "    average = sum_ / length\n",
    "    return average\n",
    "marks = [2,5,4,5]\n",
    "average = average_marks(marks)\n",
    "print(\"Your average is:\", average)\n",
    "\n",
    "def my_grade(average):\n",
    "    if average>=80:\n",
    "        grade=\"A\"\n",
    "    elif average>=60:\n",
    "        grade = \"B\"\n",
    "    elif average>=50:\n",
    "        grade=\"C\"\n",
    "    else:\n",
    "        grade =\"F\"\n",
    "    return grade\n",
    "\n",
    "grade = my_grade(average)\n",
    "print(\"Your grade is:\",grade)\n",
    "        "
   ]
  },
  {
   "cell_type": "code",
   "execution_count": 16,
   "id": "d5416c93",
   "metadata": {},
   "outputs": [
    {
     "name": "stdout",
     "output_type": "stream",
     "text": [
      "Hi Syeda Sajal\n",
      "welcome!\n"
     ]
    }
   ],
   "source": [
    "def greet(first_name,last_name):\n",
    "    print(f\"Hi {first_name} {last_name}\")\n",
    "    print(\"welcome!\")\n",
    "    \n",
    "greet(\"Syeda\",\"Sajal\")\n",
    "    "
   ]
  },
  {
   "cell_type": "code",
   "execution_count": 4,
   "id": "c615d334",
   "metadata": {},
   "outputs": [
    {
     "name": "stdout",
     "output_type": "stream",
     "text": [
      "120\n"
     ]
    }
   ],
   "source": [
    "def multiply(*numbers):\n",
    "    total = 1\n",
    "    for num in numbers:\n",
    "        total = total * num\n",
    "    return total\n",
    "    \n",
    "print(multiply(2,3,4,5))"
   ]
  },
  {
   "cell_type": "code",
   "execution_count": 7,
   "id": "364538ff",
   "metadata": {},
   "outputs": [
    {
     "name": "stdout",
     "output_type": "stream",
     "text": [
      "{'id': 1, 'name': 'sajal', 'age': 19}\n"
     ]
    }
   ],
   "source": [
    "def new_function(**user):\n",
    "    print(user)\n",
    "    \n",
    "new_function(id=1,name=\"sajal\",age=19)"
   ]
  },
  {
   "cell_type": "code",
   "execution_count": 64,
   "id": "3526961e",
   "metadata": {},
   "outputs": [
    {
     "name": "stdout",
     "output_type": "stream",
     "text": [
      "sajal\n"
     ]
    }
   ],
   "source": [
    "def new_function(**user):\n",
    "    print(user[\"name\"])\n",
    "    \n",
    "new_function(id=1,name=\"sajal\",age=19)"
   ]
  },
  {
   "cell_type": "code",
   "execution_count": 4,
   "id": "4931ab3e",
   "metadata": {},
   "outputs": [],
   "source": [
    "f = open('file.txt','a')\n",
    "f.write(\"She is a good girl \\n\")\n",
    "f.close()"
   ]
  },
  {
   "cell_type": "code",
   "execution_count": 5,
   "id": "f51fe3af",
   "metadata": {},
   "outputs": [
    {
     "data": {
      "text/plain": [
       "['She is a good girl ', 'She is a good girl ']"
      ]
     },
     "execution_count": 5,
     "metadata": {},
     "output_type": "execute_result"
    }
   ],
   "source": [
    "f = open('file.txt', 'r')\n",
    "data= f.read()\n",
    "f1= data.split(\"\\n\") \n",
    "f1[0:2]"
   ]
  },
  {
   "cell_type": "code",
   "execution_count": 16,
   "id": "f88ed51b",
   "metadata": {},
   "outputs": [],
   "source": [
    "with open(\"sajal.txt\",\"a\",encoding= 'utf_8') as file:\n",
    "    data = \"\\nI have studied ICS\"\n",
    "    file.write(data)\n",
    "    "
   ]
  },
  {
   "cell_type": "code",
   "execution_count": 17,
   "id": "699a51d2",
   "metadata": {},
   "outputs": [
    {
     "name": "stdout",
     "output_type": "stream",
     "text": [
      "My name is Sajal.\n",
      "I am student of AI\n",
      "I have studied ICS\n",
      "I have studied ICS\n",
      "I have studied ICS\n",
      "I have studied ICS\n",
      "I have studied ICS\n",
      "I have studied ICS\n",
      "I have studied ICS\n",
      "I have studied ICS\n"
     ]
    }
   ],
   "source": [
    "with open(\"sajal.txt\",\"r\",encoding= 'utf_8') as file:\n",
    "    print(file.read())"
   ]
  },
  {
   "cell_type": "code",
   "execution_count": 11,
   "id": "320e7c9c",
   "metadata": {},
   "outputs": [
    {
     "name": "stdout",
     "output_type": "stream",
     "text": [
      "enter your file name:ss\n",
      "Sorry you have entered wrong file name. Please try again with diligence\n",
      "enter your file name:sajal.txt\n",
      "My name is Sajal.\n",
      "I am student of AI\n",
      "I have studied ICS\n",
      "enter your file name:done\n"
     ]
    }
   ],
   "source": [
    "while True:\n",
    "    f_name = input(\"enter your file name:\")\n",
    "    if f_name ==\"done\":\n",
    "        break\n",
    "    try:\n",
    "        with open(f_name,\"r\",encoding = 'utf-8') as file:\n",
    "            print(file.read())\n",
    "    except NameError as e:\n",
    "        print(e)\n",
    "    except FileNotFoundError as e:\n",
    "        print(\"Sorry you have entered wrong file name. Please try again with diligence\")\n",
    "    "
   ]
  },
  {
   "cell_type": "code",
   "execution_count": 5,
   "id": "649d9e7a",
   "metadata": {},
   "outputs": [
    {
     "name": "stdout",
     "output_type": "stream",
     "text": [
      "enter your file name:ss\n",
      "[Errno 2] No such file or directory: 'ss'\n",
      "enter your file name:sajal.txt\n",
      "My name is Sajal.\n",
      "I am student of AI\n",
      "I have studied ICS\n",
      "enter your file name:done\n"
     ]
    }
   ],
   "source": [
    "while True:\n",
    "    f_name = input(\"enter your file name:\")\n",
    "    if f_name ==\"done\":\n",
    "        break\n",
    "    try:\n",
    "        with open(f_name,\"r\",encoding = 'utf-8') as file:\n",
    "            print(file.read())\n",
    "    except Exception as e:\n",
    "        print(e)"
   ]
  },
  {
   "cell_type": "code",
   "execution_count": 6,
   "id": "2200a33c",
   "metadata": {},
   "outputs": [
    {
     "name": "stdout",
     "output_type": "stream",
     "text": [
      "enter file name:dd\n",
      "File not found\n"
     ]
    }
   ],
   "source": [
    "f_name = input(\"enter file name:\")\n",
    "try:\n",
    "    file = open(f_name,'r',encoding = 'utf_8')\n",
    "    file.read()\n",
    "    file.close()\n",
    "except:\n",
    "    print(\"File not found\")"
   ]
  },
  {
   "cell_type": "code",
   "execution_count": 8,
   "id": "4c77b7a6",
   "metadata": {},
   "outputs": [
    {
     "name": "stdout",
     "output_type": "stream",
     "text": [
      "enter file name:sajal.txt\n",
      "My name is Sajal.\n",
      "I am student of AI\n",
      "I have studied ICS\n"
     ]
    }
   ],
   "source": [
    "f_name = input(\"enter file name:\")\n",
    "try:\n",
    "    with open(f_name,'r',encoding = 'utf_8') as file:\n",
    "        print(file.read())\n",
    "except:\n",
    "    print(\"File not found\")"
   ]
  },
  {
   "cell_type": "code",
   "execution_count": 1,
   "id": "7f561915",
   "metadata": {},
   "outputs": [
    {
     "name": "stdout",
     "output_type": "stream",
     "text": [
      "press 1 for data enter and 2 for retrival or done for exit:1\n",
      "enter cnic:123\n",
      "enter your name:sajal\n",
      "enter your DOB:18may\n",
      "enter your hobby:reading\n",
      "enter your occupation:gulberg\n",
      "enter your residence address:gulberg\n",
      "press 1 for data enter and 2 for retrival or done for exit:2\n",
      "{'5': {'name': 'yds', 'dob': '2000', 'hobbies': 'walking', 'occupation': 'readind', 'address': 'bhatta chowk'}}\n",
      "{'12': {'name': 'sajal', 'dob': '18may', 'hobbies': 'reading', 'occupation': 'gulberg', 'address': 'gulberg'}}\n",
      "{'123': {'name': 'sajal', 'DOB': '18may', 'hobbies': 'reading', 'occupation': 'gulberg', 'residence_address': 'gulberg'}}/n{'123': {'name': 'sajal', 'DOB': '18may', 'hobbies': 'reading', 'occupation': 'gulberg', 'residence_address': 'gulberg'}}/n{'123': {'name': 'sajal', 'DOB': '18may', 'hobbies': 'reading', 'occupation': 'gulberg', 'residence_address': 'gulberg'}}/n{'123': {'name': 'sajal', 'DOB': '18may', 'hobbies': 'reading', 'occupation': 'gulberg', 'residence_address': 'gulberg'}}/n{'123': {'name': 'sajal', 'DOB': '18may', 'hobbies': 'reading', 'occupation': 'gulberg', 'residence_address': 'gulberg'}}/n{'123': {'name': 'sajal', 'DOB': '18may', 'hobbies': 'reading', 'occupation': 'gulberg', 'residence_address': 'gulberg'}}/n{'123': {'name': 'sajal', 'DOB': '18may', 'hobbies': 'reading', 'occupation': 'gulberg', 'residence_address': 'gulberg'}}/n{'12': {'urdu': '40', 'english': '50', 'python': '60'}}\n",
      "{'123': {'name': 'sajal', 'DOB': '18may', 'hobbies': 'reading', 'occupation': 'gulberg', 'residence_address': 'gulberg'}}/n{'123': {'name': 'sajal', 'DOB': '18may', 'hobbies': 'reading', 'occupation': 'gulberg', 'residence_address': 'gulberg'}}/n{'123': {'name': 'sajal', 'DOB': '18may', 'hobbies': 'reading', 'occupation': 'gulberg', 'residence_address': 'gulberg'}}/n{'123': {'name': 'sajal', 'DOB': '18may', 'hobbies': 'reading', 'occupation': 'gulberg', 'residence_address': 'gulberg'}}/n{'123': {'name': 'sajal', 'DOB': '18may', 'hobbies': 'reading', 'occupation': 'gulbergg', 'residence_address': 'gulberg'}}/n{'123': {'name': 'sajal', 'DOB': '18may', 'hobbies': 'reading', 'occupation': 'gulberg', 'residence_address': 'gulberg'}}/n{'123': {'name': 'sajal', 'DOB': '18may', 'hobbies': 'reading', 'occupation': 'gulberg', 'residence_address': 'gulberg'}}/n{'123': {'name': 'sajal', 'DOB': '18may', 'hobbies': 'reading', 'occupation': 'gulberg', 'residence_address': 'gulberg'}}/n{'122': {'name': 'sajal', 'DOB': '18may', 'hobbies': 'reading', 'occupation': 'gulberg', 'residence_address': 'gulberg'}}/n{'123': {'name': 'sajal', 'DOB': '18may', 'hobbies': 'reading', 'occupation': 'gulberg', 'residence_address': 'gulberg'}}/n{'123': {'name': 'sajal', 'DOB': '18may', 'hobbies': 'reading', 'occupation': 'gulberg', 'residence_address': 'gulberg'}}/n{'123': {'name': 'sajal', 'DOB': '18may', 'hobbies': 'reading', 'occupation': 'gulberg', 'residence_address': 'gulberg'}}/n{'123': {'name': 'sajal', 'DOB': '18may', 'hobbies': 'reading', 'occupation': 'gulberg', 'residence_address': 'gulberg'}}/n{'1234': {'name': 'sajal', 'DOB': '18may', 'hobbies': 'gulberg', 'occupation': 'gulberg', 'residence_address': 'gulberg'}}/n{'1234': {'name': 'sajal', 'DOB': '18may', 'hobbies': 'reading', 'occupation': 'gulberg', 'residence_address': 'gulberg'}}/n{'123': {'name': 'sajal', 'DOB': '18may', 'hobbies': 'reading', 'occupation': 'gulberg', 'residence_address': 'gulberg'}}/n{'123': {'name': 'sajal', 'DOB': '18may', 'hobbies': 'reading', 'occupation': 'gulberg', 'residence_address': 'gulberg'}}/n{'123': {'name': 'sajal', 'DOB': '18may', 'hobbies': 'reading', 'occupation': 'gulberg', 'residence_address': 'gulberg'}}/n{'123': {'name': 'sajal', 'DOB': '18may', 'hobbies': 'reading', 'occupation': 'gulberg', 'residence_address': 'gulberg'}}/n{'123': {'name': 'sajal', 'DOB': '18may', 'hobbies': 'reading', 'occupation': 'gulberg', 'residence_address': 'gulberg'}}/n{'123': {'name': 'sajal', 'DOB': '18may', 'hobbies': 'reading', 'occupation': 'gulberg', 'residence_address': 'gulberg'}}\n",
      "{'123': {'name': 'sajal', 'DOB': '18may', 'hobbies': 'reading', 'occupation': 'gulberg', 'residence_address': 'gulberg'}}/n\n",
      "press 1 for data enter and 2 for retrival or done for exit:donr\n",
      "press 1 for data enter and 2 for retrival or done for exit:done\n"
     ]
    }
   ],
   "source": [
    "# file handling\n",
    "#Q1: Accept details of all your friends from standard input (e.g. Name, Date of birth, Hobbies, occupation,\n",
    "# residence address) and store it in a binary file as individual records. Allow the user to list out all details \n",
    "# of a friend, given his/her name.\n",
    "while True:\n",
    "    choice = input(\"press 1 for data enter and 2 for retrival or done for exit:\")\n",
    "    if choice == \"1\":\n",
    "            cnic = input(\"enter cnic:\")\n",
    "            name = input(\"enter your name:\")\n",
    "            DOB = input(\"enter your DOB:\")\n",
    "            hobbies = input(\"enter your hobby:\")\n",
    "            occupation = input(\"enter your occupation:\")\n",
    "            residence_address = input(\"enter your residence address:\")\n",
    "            record = {cnic:{\"name\":name, \"DOB\" : DOB, \"hobbies\": hobbies, \"occupation\": occupation,\"residence_address\":residence_address}}\n",
    "            file = open('data.txt',\"a\", encoding='utf-8')\n",
    "            file.write(str(record)+ \"/n\")\n",
    "            file.close()\n",
    "    elif choice == \"done\":\n",
    "        break\n",
    "    elif choice == \"2\":\n",
    "        file = open('data.txt',\"r\", encoding='utf-8')\n",
    "        print(file.read())\n",
    "    \n",
    "        "
   ]
  },
  {
   "cell_type": "code",
   "execution_count": 3,
   "id": "8d166415",
   "metadata": {},
   "outputs": [],
   "source": [
    "with open('test2.txt','w') as f:\n",
    "    f.write('Test')\n",
    "    f.seek(0)\n",
    "    f.write('R')"
   ]
  },
  {
   "cell_type": "code",
   "execution_count": 10,
   "id": "1c7eb3b2",
   "metadata": {},
   "outputs": [
    {
     "name": "stdout",
     "output_type": "stream",
     "text": [
      "Current working directory: C:\\\n"
     ]
    }
   ],
   "source": [
    "import os\n",
    "     \n",
    "# Get the current working directory (CWD)\n",
    "cwd = os.getcwd()\n",
    "     \n",
    "# Print the current working directory (CWD)\n",
    "print(\"Current working directory:\", cwd)"
   ]
  },
  {
   "cell_type": "code",
   "execution_count": 19,
   "id": "f44f81ae",
   "metadata": {},
   "outputs": [
    {
     "name": "stdout",
     "output_type": "stream",
     "text": [
      "press 1 for data enter and 2 for retrival or done for exit:1\n",
      "enter cnic:122\n",
      "enter your name:sajal\n",
      "enter your DOB:18may\n",
      "enter your hobby:reading\n",
      "enter your occupation:gulberg\n",
      "enter your residence address:gulberg\n",
      "press 1 for data enter and 2 for retrival or done for exit:2\n",
      "Please enter the cnic number of the friend whose data you would like to see: 122\n"
     ]
    },
    {
     "ename": "SyntaxError",
     "evalue": "invalid syntax (<string>, line 1)",
     "output_type": "error",
     "traceback": [
      "Traceback \u001b[1;36m(most recent call last)\u001b[0m:\n",
      "  File \u001b[0;32m\"E:\\anaconda3\\lib\\site-packages\\IPython\\core\\interactiveshell.py\"\u001b[0m, line \u001b[0;32m3444\u001b[0m, in \u001b[0;35mrun_code\u001b[0m\n    exec(code_obj, self.user_global_ns, self.user_ns)\n",
      "\u001b[1;36m  File \u001b[1;32m\"C:\\Users\\HPUSER~1\\AppData\\Local\\Temp/ipykernel_564/1918702939.py\"\u001b[1;36m, line \u001b[1;32m27\u001b[1;36m, in \u001b[1;35m<module>\u001b[1;36m\u001b[0m\n\u001b[1;33m    line = eval(line)\u001b[0m\n",
      "\u001b[1;36m  File \u001b[1;32m\"<string>\"\u001b[1;36m, line \u001b[1;32m1\u001b[0m\n\u001b[1;33m    {'123': {'name': 'sajal', 'DOB': '18may', 'hobbies': 'reading', 'occupation': 'gulberg', 'residence_address': 'gulberg'}}/n{'123': {'name': 'sajal', 'DOB': '18may', 'hobbies': 'reading', 'occupation': 'gulberg', 'residence_address': 'gulberg'}}/n{'123': {'name': 'sajal', 'DOB': '18may', 'hobbies': 'reading', 'occupation': 'gulberg', 'residence_address': 'gulberg'}}/n{'123': {'name': 'sajal', 'DOB': '18may', 'hobbies': 'reading', 'occupation': 'gulberg', 'residence_address': 'gulberg'}}/n{'123': {'name': 'sajal', 'DOB': '18may', 'hobbies': 'reading', 'occupation': 'gulberg', 'residence_address': 'gulberg'}}/n{'123': {'name': 'sajal', 'DOB': '18may', 'hobbies': 'reading', 'occupation': 'gulberg', 'residence_address': 'gulberg'}}/n{'123': {'name': 'sajal', 'DOB': '18may', 'hobbies': 'reading', 'occupation': 'gulberg', 'residence_address': 'gulberg'}}/n{'12': {'urdu': '40', 'english': '50', 'python': '60'}}\u001b[0m\n\u001b[1;37m                                                                                                                               ^\u001b[0m\n\u001b[1;31mSyntaxError\u001b[0m\u001b[1;31m:\u001b[0m invalid syntax\n"
     ]
    }
   ],
   "source": [
    "## file handling\n",
    "#Q1: Accept details of all your friends from standard input (e.g. Name, Date of birth, Hobbies, occupation,\n",
    "# residence address) and store it in a binary file as individual records. Allow the user to list out all details \n",
    "# of a friend, given his/her name.\n",
    "while True:\n",
    "    choice = input(\"press 1 for data enter and 2 for retrival or done for exit:\")\n",
    "    if choice == \"1\":\n",
    "            cnic = input(\"enter cnic:\")\n",
    "            name = input(\"enter your name:\")\n",
    "            DOB = input(\"enter your DOB:\")\n",
    "            hobbies = input(\"enter your hobby:\")\n",
    "            occupation = input(\"enter your occupation:\")\n",
    "            residence_address = input(\"enter your residence address:\")\n",
    "            record = {cnic:{\"name\":name, \"DOB\" : DOB, \"hobbies\": hobbies, \"occupation\": occupation,\"residence_address\":residence_address}}\n",
    "            file = open('data.txt',\"a\", encoding='utf-8')\n",
    "            file.write(str(record)+ \"\\n\")\n",
    "   \n",
    "    elif choice == \"done\":\n",
    "        break\n",
    "        \n",
    "    elif choice == \"2\":\n",
    "        file = open('data.txt',\"r\", encoding='utf-8')\n",
    "        data = file.readlines()\n",
    "        friend_cnic = input(\"Please enter the cnic number of the friend whose data you would like to see: \")\n",
    "        \n",
    "        for line in data:\n",
    "            line = eval(line)\n",
    "            if friend_cnic in line.keys():\n",
    "                print(line.values())\n",
    "            \n",
    "                \n",
    "                "
   ]
  },
  {
   "cell_type": "code",
   "execution_count": null,
   "id": "1945883d",
   "metadata": {},
   "outputs": [],
   "source": []
  },
  {
   "cell_type": "code",
   "execution_count": null,
   "id": "64606a12",
   "metadata": {},
   "outputs": [],
   "source": []
  },
  {
   "cell_type": "code",
   "execution_count": null,
   "id": "6043b6ca",
   "metadata": {},
   "outputs": [],
   "source": []
  },
  {
   "cell_type": "code",
   "execution_count": null,
   "id": "79b8793a",
   "metadata": {},
   "outputs": [],
   "source": []
  },
  {
   "cell_type": "code",
   "execution_count": null,
   "id": "a2479ade",
   "metadata": {},
   "outputs": [],
   "source": []
  },
  {
   "cell_type": "code",
   "execution_count": null,
   "id": "17d5bd52",
   "metadata": {},
   "outputs": [],
   "source": []
  },
  {
   "cell_type": "code",
   "execution_count": null,
   "id": "27ede69f",
   "metadata": {},
   "outputs": [],
   "source": []
  },
  {
   "cell_type": "code",
   "execution_count": null,
   "id": "e47451ee",
   "metadata": {},
   "outputs": [],
   "source": []
  },
  {
   "cell_type": "code",
   "execution_count": null,
   "id": "89cbadc3",
   "metadata": {},
   "outputs": [],
   "source": []
  },
  {
   "cell_type": "code",
   "execution_count": null,
   "id": "a98a8359",
   "metadata": {},
   "outputs": [],
   "source": []
  },
  {
   "cell_type": "code",
   "execution_count": null,
   "id": "89d3a2a2",
   "metadata": {},
   "outputs": [],
   "source": []
  },
  {
   "cell_type": "code",
   "execution_count": null,
   "id": "39dbd791",
   "metadata": {},
   "outputs": [],
   "source": []
  }
 ],
 "metadata": {
  "kernelspec": {
   "display_name": "Python 3 (ipykernel)",
   "language": "python",
   "name": "python3"
  },
  "language_info": {
   "codemirror_mode": {
    "name": "ipython",
    "version": 3
   },
   "file_extension": ".py",
   "mimetype": "text/x-python",
   "name": "python",
   "nbconvert_exporter": "python",
   "pygments_lexer": "ipython3",
   "version": "3.9.7"
  }
 },
 "nbformat": 4,
 "nbformat_minor": 5
}
